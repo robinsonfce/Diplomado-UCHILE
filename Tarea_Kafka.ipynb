{
  "nbformat": 4,
  "nbformat_minor": 0,
  "metadata": {
    "colab": {
      "name": "Tarea Kafka.ipynb",
      "provenance": []
    },
    "kernelspec": {
      "name": "python3",
      "display_name": "Python 3"
    }
  },
  "cells": [
    {
      "cell_type": "markdown",
      "metadata": {
        "id": "pFVVXQJ8oj7b"
      },
      "source": [
        "# Instalación de paquetes"
      ]
    },
    {
      "cell_type": "code",
      "metadata": {
        "id": "JE0BgaBLoowV",
        "outputId": "b1cfcf4f-1d22-4543-8e43-4753fd869f53",
        "colab": {
          "base_uri": "https://localhost:8080/",
          "height": 886
        }
      },
      "source": [
        "print(\"Installing the tensorflow-io-nightly package !\")\n",
        "!pip install tensorflow-io-nightly\n",
        "\n",
        "print(\"Installing the kafka-python package !\")\n",
        "!pip install kafka-python\n"
      ],
      "execution_count": null,
      "outputs": [
        {
          "output_type": "stream",
          "text": [
            "Installing the tensorflow-io-nightly package !\n",
            "Collecting tensorflow-io-nightly\n",
            "\u001b[?25l  Downloading https://files.pythonhosted.org/packages/32/b3/32742efdb8f1a910acfdad3c47d5251212621ac2bd44a944b13d198c7f07/tensorflow_io_nightly-0.15.0.dev20201017201705-cp36-cp36m-manylinux2010_x86_64.whl (22.4MB)\n",
            "\u001b[K     |████████████████████████████████| 22.4MB 1.3MB/s \n",
            "\u001b[?25hRequirement already satisfied: tensorflow<2.4.0,>=2.3.0 in /usr/local/lib/python3.6/dist-packages (from tensorflow-io-nightly) (2.3.0)\n",
            "Requirement already satisfied: google-pasta>=0.1.8 in /usr/local/lib/python3.6/dist-packages (from tensorflow<2.4.0,>=2.3.0->tensorflow-io-nightly) (0.2.0)\n",
            "Requirement already satisfied: absl-py>=0.7.0 in /usr/local/lib/python3.6/dist-packages (from tensorflow<2.4.0,>=2.3.0->tensorflow-io-nightly) (0.10.0)\n",
            "Requirement already satisfied: protobuf>=3.9.2 in /usr/local/lib/python3.6/dist-packages (from tensorflow<2.4.0,>=2.3.0->tensorflow-io-nightly) (3.12.4)\n",
            "Requirement already satisfied: tensorflow-estimator<2.4.0,>=2.3.0 in /usr/local/lib/python3.6/dist-packages (from tensorflow<2.4.0,>=2.3.0->tensorflow-io-nightly) (2.3.0)\n",
            "Requirement already satisfied: wheel>=0.26 in /usr/local/lib/python3.6/dist-packages (from tensorflow<2.4.0,>=2.3.0->tensorflow-io-nightly) (0.35.1)\n",
            "Requirement already satisfied: scipy==1.4.1 in /usr/local/lib/python3.6/dist-packages (from tensorflow<2.4.0,>=2.3.0->tensorflow-io-nightly) (1.4.1)\n",
            "Requirement already satisfied: numpy<1.19.0,>=1.16.0 in /usr/local/lib/python3.6/dist-packages (from tensorflow<2.4.0,>=2.3.0->tensorflow-io-nightly) (1.18.5)\n",
            "Requirement already satisfied: tensorboard<3,>=2.3.0 in /usr/local/lib/python3.6/dist-packages (from tensorflow<2.4.0,>=2.3.0->tensorflow-io-nightly) (2.3.0)\n",
            "Requirement already satisfied: six>=1.12.0 in /usr/local/lib/python3.6/dist-packages (from tensorflow<2.4.0,>=2.3.0->tensorflow-io-nightly) (1.15.0)\n",
            "Requirement already satisfied: termcolor>=1.1.0 in /usr/local/lib/python3.6/dist-packages (from tensorflow<2.4.0,>=2.3.0->tensorflow-io-nightly) (1.1.0)\n",
            "Requirement already satisfied: grpcio>=1.8.6 in /usr/local/lib/python3.6/dist-packages (from tensorflow<2.4.0,>=2.3.0->tensorflow-io-nightly) (1.32.0)\n",
            "Requirement already satisfied: astunparse==1.6.3 in /usr/local/lib/python3.6/dist-packages (from tensorflow<2.4.0,>=2.3.0->tensorflow-io-nightly) (1.6.3)\n",
            "Requirement already satisfied: keras-preprocessing<1.2,>=1.1.1 in /usr/local/lib/python3.6/dist-packages (from tensorflow<2.4.0,>=2.3.0->tensorflow-io-nightly) (1.1.2)\n",
            "Requirement already satisfied: opt-einsum>=2.3.2 in /usr/local/lib/python3.6/dist-packages (from tensorflow<2.4.0,>=2.3.0->tensorflow-io-nightly) (3.3.0)\n",
            "Requirement already satisfied: h5py<2.11.0,>=2.10.0 in /usr/local/lib/python3.6/dist-packages (from tensorflow<2.4.0,>=2.3.0->tensorflow-io-nightly) (2.10.0)\n",
            "Requirement already satisfied: gast==0.3.3 in /usr/local/lib/python3.6/dist-packages (from tensorflow<2.4.0,>=2.3.0->tensorflow-io-nightly) (0.3.3)\n",
            "Requirement already satisfied: wrapt>=1.11.1 in /usr/local/lib/python3.6/dist-packages (from tensorflow<2.4.0,>=2.3.0->tensorflow-io-nightly) (1.12.1)\n",
            "Requirement already satisfied: setuptools in /usr/local/lib/python3.6/dist-packages (from protobuf>=3.9.2->tensorflow<2.4.0,>=2.3.0->tensorflow-io-nightly) (50.3.0)\n",
            "Requirement already satisfied: google-auth<2,>=1.6.3 in /usr/local/lib/python3.6/dist-packages (from tensorboard<3,>=2.3.0->tensorflow<2.4.0,>=2.3.0->tensorflow-io-nightly) (1.17.2)\n",
            "Requirement already satisfied: werkzeug>=0.11.15 in /usr/local/lib/python3.6/dist-packages (from tensorboard<3,>=2.3.0->tensorflow<2.4.0,>=2.3.0->tensorflow-io-nightly) (1.0.1)\n",
            "Requirement already satisfied: requests<3,>=2.21.0 in /usr/local/lib/python3.6/dist-packages (from tensorboard<3,>=2.3.0->tensorflow<2.4.0,>=2.3.0->tensorflow-io-nightly) (2.23.0)\n",
            "Requirement already satisfied: tensorboard-plugin-wit>=1.6.0 in /usr/local/lib/python3.6/dist-packages (from tensorboard<3,>=2.3.0->tensorflow<2.4.0,>=2.3.0->tensorflow-io-nightly) (1.7.0)\n",
            "Requirement already satisfied: markdown>=2.6.8 in /usr/local/lib/python3.6/dist-packages (from tensorboard<3,>=2.3.0->tensorflow<2.4.0,>=2.3.0->tensorflow-io-nightly) (3.2.2)\n",
            "Requirement already satisfied: google-auth-oauthlib<0.5,>=0.4.1 in /usr/local/lib/python3.6/dist-packages (from tensorboard<3,>=2.3.0->tensorflow<2.4.0,>=2.3.0->tensorflow-io-nightly) (0.4.1)\n",
            "Requirement already satisfied: pyasn1-modules>=0.2.1 in /usr/local/lib/python3.6/dist-packages (from google-auth<2,>=1.6.3->tensorboard<3,>=2.3.0->tensorflow<2.4.0,>=2.3.0->tensorflow-io-nightly) (0.2.8)\n",
            "Requirement already satisfied: rsa<5,>=3.1.4; python_version >= \"3\" in /usr/local/lib/python3.6/dist-packages (from google-auth<2,>=1.6.3->tensorboard<3,>=2.3.0->tensorflow<2.4.0,>=2.3.0->tensorflow-io-nightly) (4.6)\n",
            "Requirement already satisfied: cachetools<5.0,>=2.0.0 in /usr/local/lib/python3.6/dist-packages (from google-auth<2,>=1.6.3->tensorboard<3,>=2.3.0->tensorflow<2.4.0,>=2.3.0->tensorflow-io-nightly) (4.1.1)\n",
            "Requirement already satisfied: urllib3!=1.25.0,!=1.25.1,<1.26,>=1.21.1 in /usr/local/lib/python3.6/dist-packages (from requests<3,>=2.21.0->tensorboard<3,>=2.3.0->tensorflow<2.4.0,>=2.3.0->tensorflow-io-nightly) (1.24.3)\n",
            "Requirement already satisfied: certifi>=2017.4.17 in /usr/local/lib/python3.6/dist-packages (from requests<3,>=2.21.0->tensorboard<3,>=2.3.0->tensorflow<2.4.0,>=2.3.0->tensorflow-io-nightly) (2020.6.20)\n",
            "Requirement already satisfied: idna<3,>=2.5 in /usr/local/lib/python3.6/dist-packages (from requests<3,>=2.21.0->tensorboard<3,>=2.3.0->tensorflow<2.4.0,>=2.3.0->tensorflow-io-nightly) (2.10)\n",
            "Requirement already satisfied: chardet<4,>=3.0.2 in /usr/local/lib/python3.6/dist-packages (from requests<3,>=2.21.0->tensorboard<3,>=2.3.0->tensorflow<2.4.0,>=2.3.0->tensorflow-io-nightly) (3.0.4)\n",
            "Requirement already satisfied: importlib-metadata; python_version < \"3.8\" in /usr/local/lib/python3.6/dist-packages (from markdown>=2.6.8->tensorboard<3,>=2.3.0->tensorflow<2.4.0,>=2.3.0->tensorflow-io-nightly) (2.0.0)\n",
            "Requirement already satisfied: requests-oauthlib>=0.7.0 in /usr/local/lib/python3.6/dist-packages (from google-auth-oauthlib<0.5,>=0.4.1->tensorboard<3,>=2.3.0->tensorflow<2.4.0,>=2.3.0->tensorflow-io-nightly) (1.3.0)\n",
            "Requirement already satisfied: pyasn1<0.5.0,>=0.4.6 in /usr/local/lib/python3.6/dist-packages (from pyasn1-modules>=0.2.1->google-auth<2,>=1.6.3->tensorboard<3,>=2.3.0->tensorflow<2.4.0,>=2.3.0->tensorflow-io-nightly) (0.4.8)\n",
            "Requirement already satisfied: zipp>=0.5 in /usr/local/lib/python3.6/dist-packages (from importlib-metadata; python_version < \"3.8\"->markdown>=2.6.8->tensorboard<3,>=2.3.0->tensorflow<2.4.0,>=2.3.0->tensorflow-io-nightly) (3.2.0)\n",
            "Requirement already satisfied: oauthlib>=3.0.0 in /usr/local/lib/python3.6/dist-packages (from requests-oauthlib>=0.7.0->google-auth-oauthlib<0.5,>=0.4.1->tensorboard<3,>=2.3.0->tensorflow<2.4.0,>=2.3.0->tensorflow-io-nightly) (3.1.0)\n",
            "Installing collected packages: tensorflow-io-nightly\n",
            "Successfully installed tensorflow-io-nightly-0.15.0.dev20201017201705\n",
            "Installing the kafka-python package !\n",
            "Collecting kafka-python\n",
            "\u001b[?25l  Downloading https://files.pythonhosted.org/packages/75/68/dcb0db055309f680ab2931a3eeb22d865604b638acf8c914bedf4c1a0c8c/kafka_python-2.0.2-py2.py3-none-any.whl (246kB)\n",
            "\u001b[K     |████████████████████████████████| 256kB 2.8MB/s \n",
            "\u001b[?25hInstalling collected packages: kafka-python\n",
            "Successfully installed kafka-python-2.0.2\n"
          ],
          "name": "stdout"
        }
      ]
    },
    {
      "cell_type": "markdown",
      "metadata": {
        "id": "8EXrlE66ox7r"
      },
      "source": [
        "# Listado de paquetes de importación"
      ]
    },
    {
      "cell_type": "code",
      "metadata": {
        "id": "q6gJdCL0o1Bg"
      },
      "source": [
        "import os\n",
        "from datetime import datetime\n",
        "import time\n",
        "import threading\n",
        "import json\n",
        "from kafka import KafkaProducer\n",
        "from kafka.errors import KafkaError\n",
        "from sklearn.model_selection import train_test_split\n",
        "import pandas as pd\n",
        "import tensorflow as tf\n",
        "import tensorflow_io as tfio"
      ],
      "execution_count": null,
      "outputs": []
    },
    {
      "cell_type": "code",
      "metadata": {
        "id": "ss-kFjOHpRf5",
        "outputId": "3d0628c5-6bcb-4f54-a671-f23c231ba76a",
        "colab": {
          "base_uri": "https://localhost:8080/",
          "height": 52
        }
      },
      "source": [
        "print(\"tensorflow-io version: {}\".format(tfio.__version__))\n",
        "print(\"tensorflow version: {}\".format(tf.__version__))"
      ],
      "execution_count": null,
      "outputs": [
        {
          "output_type": "stream",
          "text": [
            "tensorflow-io version: 0.15.0\n",
            "tensorflow version: 2.3.0\n"
          ],
          "name": "stdout"
        }
      ]
    },
    {
      "cell_type": "markdown",
      "metadata": {
        "id": "KEt_LCnqp7l5"
      },
      "source": [
        "# Descargar y configuración de Kafka"
      ]
    },
    {
      "cell_type": "code",
      "metadata": {
        "id": "deM8QefpqBj1"
      },
      "source": [
        "!curl -sSOL http://packages.confluent.io/archive/5.4/confluent-community-5.4.1-2.12.tar.gz\n",
        "!tar -xzf confluent-community-5.4.1-2.12.tar.gz"
      ],
      "execution_count": null,
      "outputs": []
    },
    {
      "cell_type": "markdown",
      "metadata": {
        "id": "DMh5pE3OqJWe"
      },
      "source": [
        "Usamos los archivos de configuración provistos por Confluent Package "
      ]
    },
    {
      "cell_type": "code",
      "metadata": {
        "id": "C0QQm-pBqIOd",
        "outputId": "cd6ee356-4758-4c04-dd62-cc9a09220e62",
        "colab": {
          "base_uri": "https://localhost:8080/",
          "height": 34
        }
      },
      "source": [
        "!cd confluent-5.4.1 && bin/zookeeper-server-start -daemon etc/kafka/zookeeper.properties\n",
        "!cd confluent-5.4.1 && bin/kafka-server-start -daemon etc/kafka/server.properties\n",
        "!echo \"Waiting for 10 secs until kafka and zookeeper services are up and running\"\n",
        "!sleep 10"
      ],
      "execution_count": null,
      "outputs": [
        {
          "output_type": "stream",
          "text": [
            "Waiting for 10 secs until kafka and zookeeper services are up and running\n"
          ],
          "name": "stdout"
        }
      ]
    },
    {
      "cell_type": "markdown",
      "metadata": {
        "id": "4J0XhNUKqiJa"
      },
      "source": [
        "Estas instancias han creado un demonio (Procesos Java) los cuales podemos visualizar con el siguiente comando \n"
      ]
    },
    {
      "cell_type": "code",
      "metadata": {
        "id": "IbtEU-5EqsRw",
        "outputId": "79bcf103-5872-4878-9082-f442b1a2bc3a",
        "colab": {
          "base_uri": "https://localhost:8080/",
          "height": 106
        }
      },
      "source": [
        "!ps -ef | grep kafka"
      ],
      "execution_count": null,
      "outputs": [
        {
          "output_type": "stream",
          "text": [
            "root         217       1  2 17:02 ?        00:00:02 java -Xmx512M -Xms512M -server -XX:+UseG1GC -XX:MaxGCPauseMillis=20 -XX:InitiatingHeapOccupancyPercent=35 -XX:+ExplicitGCInvokesConcurrent -Djava.awt.headless=true -Xlog:gc*:file=/content/confluent-5.4.1/bin/../logs/zookeeper-gc.log:time,tags:filecount=10,filesize=102400 -Dcom.sun.management.jmxremote -Dcom.sun.management.jmxremote.authenticate=false -Dcom.sun.management.jmxremote.ssl=false -Dkafka.logs.dir=/content/confluent-5.4.1/bin/../logs -Dlog4j.configuration=file:bin/../etc/kafka/log4j.properties -cp /content/confluent-5.4.1/bin/../share/java/kafka/*:/content/confluent-5.4.1/bin/../support-metrics-client/build/dependant-libs-2.12.10/*:/content/confluent-5.4.1/bin/../support-metrics-client/build/libs/*:/usr/share/java/support-metrics-client/* org.apache.zookeeper.server.quorum.QuorumPeerMain etc/kafka/zookeeper.properties\n",
            "root         261       1  9 17:02 ?        00:00:09 java -Xmx1G -Xms1G -server -XX:+UseG1GC -XX:MaxGCPauseMillis=20 -XX:InitiatingHeapOccupancyPercent=35 -XX:+ExplicitGCInvokesConcurrent -Djava.awt.headless=true -Xlog:gc*:file=/content/confluent-5.4.1/bin/../logs/kafkaServer-gc.log:time,tags:filecount=10,filesize=102400 -Dcom.sun.management.jmxremote -Dcom.sun.management.jmxremote.authenticate=false -Dcom.sun.management.jmxremote.ssl=false -Dkafka.logs.dir=/content/confluent-5.4.1/bin/../logs -Dlog4j.configuration=file:bin/../etc/kafka/log4j.properties -cp /content/confluent-5.4.1/bin/../share/java/kafka/*:/content/confluent-5.4.1/bin/../support-metrics-client/build/dependant-libs-2.12.10/*:/content/confluent-5.4.1/bin/../support-metrics-client/build/libs/*:/usr/share/java/support-metrics-client/* io.confluent.support.metrics.SupportedKafka etc/kafka/server.properties\n",
            "root         364      99  0 17:03 ?        00:00:00 /bin/bash -c ps -ef | grep kafka\n",
            "root         366     364  0 17:03 ?        00:00:00 grep kafka\n"
          ],
          "name": "stdout"
        }
      ]
    },
    {
      "cell_type": "markdown",
      "metadata": {
        "id": "1wWeUk4rq-HW"
      },
      "source": [
        "Ahora crearemos un topico de Kafka con las siguientes especificaciones:\n",
        "```\n",
        "#RFCE-train: partitions=1, replication-factor=1\n",
        "#RFCE-test: partitions=2, replication-factor=1\n",
        "```\n",
        "\n"
      ]
    },
    {
      "cell_type": "code",
      "metadata": {
        "id": "oW6hyFISrI_G",
        "outputId": "1dec73ca-5766-444a-a029-b9c6428752a7",
        "colab": {
          "base_uri": "https://localhost:8080/",
          "height": 52
        }
      },
      "source": [
        "!confluent-5.4.1/bin/kafka-topics --create --zookeeper 127.0.0.1:2181 --replication-factor 1 --partitions 1 --topic RFCE-train\n",
        "!confluent-5.4.1/bin/kafka-topics --create --zookeeper 127.0.0.1:2181 --replication-factor 1 --partitions 2 --topic RFCE-test"
      ],
      "execution_count": null,
      "outputs": [
        {
          "output_type": "stream",
          "text": [
            "Created topic RFCE-train.\n",
            "Created topic RFCE-test.\n"
          ],
          "name": "stdout"
        }
      ]
    },
    {
      "cell_type": "markdown",
      "metadata": {
        "id": "6kUAepcTreIg"
      },
      "source": [
        "Describiremos el topico con los detalle de la configuración."
      ]
    },
    {
      "cell_type": "code",
      "metadata": {
        "id": "V9RjUBPhrLle",
        "outputId": "60030d1e-b759-45bd-dc24-a28a61336265",
        "colab": {
          "base_uri": "https://localhost:8080/",
          "height": 104
        }
      },
      "source": [
        "!confluent-5.4.1/bin/kafka-topics --bootstrap-server 127.0.0.1:9092 --describe --topic RFCE-train\n",
        "!confluent-5.4.1/bin/kafka-topics --bootstrap-server 127.0.0.1:9092 --describe --topic RFCE-test"
      ],
      "execution_count": null,
      "outputs": [
        {
          "output_type": "stream",
          "text": [
            "Topic: RFCE-train\tPartitionCount: 1\tReplicationFactor: 1\tConfigs: segment.bytes=1073741824\n",
            "\tTopic: RFCE-train\tPartition: 0\tLeader: 0\tReplicas: 0\tIsr: 0\n",
            "Topic: RFCE-test\tPartitionCount: 2\tReplicationFactor: 1\tConfigs: segment.bytes=1073741824\n",
            "\tTopic: RFCE-test\tPartition: 0\tLeader: 0\tReplicas: 0\tIsr: 0\n",
            "\tTopic: RFCE-test\tPartition: 1\tLeader: 0\tReplicas: 0\tIsr: 0\n"
          ],
          "name": "stdout"
        }
      ]
    },
    {
      "cell_type": "markdown",
      "metadata": {
        "id": "LDfYBKU43fpo"
      },
      "source": [
        "# Iniciando la carga de datos y exploración del dataset"
      ]
    },
    {
      "cell_type": "code",
      "metadata": {
        "id": "iNj6fJwZw2ZY",
        "outputId": "c04a617e-01c9-40c7-bb6f-2698803fe0f3",
        "colab": {
          "base_uri": "https://localhost:8080/",
          "height": 34
        }
      },
      "source": [
        "from pydrive.auth import GoogleAuth\n",
        "from pydrive.drive import GoogleDrive\n",
        "from google.colab import auth  \n",
        "from oauth2client.client import GoogleCredentials\n",
        "from google.colab import drive\n",
        "drive.mount('/content/drive')"
      ],
      "execution_count": null,
      "outputs": [
        {
          "output_type": "stream",
          "text": [
            "Mounted at /content/drive\n"
          ],
          "name": "stdout"
        }
      ]
    },
    {
      "cell_type": "markdown",
      "metadata": {
        "id": "Cc6DzJngcEYi"
      },
      "source": [
        "#aca se puede editar el modelo y colocar cualquier red neuronal"
      ]
    },
    {
      "cell_type": "code",
      "metadata": {
        "id": "_jFEl1SkcCkY"
      },
      "source": [
        ""
      ],
      "execution_count": null,
      "outputs": []
    },
    {
      "cell_type": "code",
      "metadata": {
        "id": "yuStsVBn4KH0"
      },
      "source": [
        "path = '/content/drive/My Drive/Adquisicion/MONGO_SPARK/Kafka-Ejercicios (1)/Kafka/PrediccionPm2.5-MLP/datasets'\n",
        "os.chdir(path)\n",
        "df = pd.read_csv('TestData.txt')"
      ],
      "execution_count": null,
      "outputs": []
    },
    {
      "cell_type": "code",
      "metadata": {
        "id": "0WCd4cPT6fkm",
        "outputId": "d6e8a5c8-61bf-43e3-fa10-653252be50ec",
        "colab": {
          "base_uri": "https://localhost:8080/",
          "height": 294
        }
      },
      "source": [
        "df.describe()"
      ],
      "execution_count": null,
      "outputs": [
        {
          "output_type": "execute_result",
          "data": {
            "text/html": [
              "<div>\n",
              "<style scoped>\n",
              "    .dataframe tbody tr th:only-of-type {\n",
              "        vertical-align: middle;\n",
              "    }\n",
              "\n",
              "    .dataframe tbody tr th {\n",
              "        vertical-align: top;\n",
              "    }\n",
              "\n",
              "    .dataframe thead th {\n",
              "        text-align: right;\n",
              "    }\n",
              "</style>\n",
              "<table border=\"1\" class=\"dataframe\">\n",
              "  <thead>\n",
              "    <tr style=\"text-align: right;\">\n",
              "      <th></th>\n",
              "      <th>No</th>\n",
              "      <th>year</th>\n",
              "      <th>month</th>\n",
              "      <th>day</th>\n",
              "      <th>hour</th>\n",
              "      <th>pm2.5</th>\n",
              "      <th>DEWP</th>\n",
              "      <th>TEMP</th>\n",
              "      <th>PRES</th>\n",
              "      <th>Iws</th>\n",
              "      <th>Is</th>\n",
              "      <th>Ir</th>\n",
              "    </tr>\n",
              "  </thead>\n",
              "  <tbody>\n",
              "    <tr>\n",
              "      <th>count</th>\n",
              "      <td>8760.000000</td>\n",
              "      <td>8760.0</td>\n",
              "      <td>8760.000000</td>\n",
              "      <td>8760.000000</td>\n",
              "      <td>8760.000000</td>\n",
              "      <td>8661.000000</td>\n",
              "      <td>8760.000000</td>\n",
              "      <td>8760.000000</td>\n",
              "      <td>8760.000000</td>\n",
              "      <td>8760.000000</td>\n",
              "      <td>8760.000000</td>\n",
              "      <td>8760.000000</td>\n",
              "    </tr>\n",
              "    <tr>\n",
              "      <th>mean</th>\n",
              "      <td>39444.500000</td>\n",
              "      <td>2014.0</td>\n",
              "      <td>6.526027</td>\n",
              "      <td>15.720548</td>\n",
              "      <td>11.500000</td>\n",
              "      <td>97.734557</td>\n",
              "      <td>2.052169</td>\n",
              "      <td>13.679566</td>\n",
              "      <td>1016.637557</td>\n",
              "      <td>19.618643</td>\n",
              "      <td>0.033904</td>\n",
              "      <td>0.135616</td>\n",
              "    </tr>\n",
              "    <tr>\n",
              "      <th>std</th>\n",
              "      <td>2528.938512</td>\n",
              "      <td>0.0</td>\n",
              "      <td>3.448048</td>\n",
              "      <td>8.796749</td>\n",
              "      <td>6.922582</td>\n",
              "      <td>93.531528</td>\n",
              "      <td>14.162550</td>\n",
              "      <td>11.648796</td>\n",
              "      <td>9.797063</td>\n",
              "      <td>44.221399</td>\n",
              "      <td>0.704797</td>\n",
              "      <td>1.070038</td>\n",
              "    </tr>\n",
              "    <tr>\n",
              "      <th>min</th>\n",
              "      <td>35065.000000</td>\n",
              "      <td>2014.0</td>\n",
              "      <td>1.000000</td>\n",
              "      <td>1.000000</td>\n",
              "      <td>0.000000</td>\n",
              "      <td>2.000000</td>\n",
              "      <td>-40.000000</td>\n",
              "      <td>-13.000000</td>\n",
              "      <td>993.000000</td>\n",
              "      <td>0.450000</td>\n",
              "      <td>0.000000</td>\n",
              "      <td>0.000000</td>\n",
              "    </tr>\n",
              "    <tr>\n",
              "      <th>25%</th>\n",
              "      <td>37254.750000</td>\n",
              "      <td>2014.0</td>\n",
              "      <td>4.000000</td>\n",
              "      <td>8.000000</td>\n",
              "      <td>5.750000</td>\n",
              "      <td>28.000000</td>\n",
              "      <td>-9.000000</td>\n",
              "      <td>3.000000</td>\n",
              "      <td>1008.000000</td>\n",
              "      <td>1.790000</td>\n",
              "      <td>0.000000</td>\n",
              "      <td>0.000000</td>\n",
              "    </tr>\n",
              "    <tr>\n",
              "      <th>50%</th>\n",
              "      <td>39444.500000</td>\n",
              "      <td>2014.0</td>\n",
              "      <td>7.000000</td>\n",
              "      <td>16.000000</td>\n",
              "      <td>11.500000</td>\n",
              "      <td>72.000000</td>\n",
              "      <td>4.000000</td>\n",
              "      <td>15.000000</td>\n",
              "      <td>1016.000000</td>\n",
              "      <td>4.910000</td>\n",
              "      <td>0.000000</td>\n",
              "      <td>0.000000</td>\n",
              "    </tr>\n",
              "    <tr>\n",
              "      <th>75%</th>\n",
              "      <td>41634.250000</td>\n",
              "      <td>2014.0</td>\n",
              "      <td>10.000000</td>\n",
              "      <td>23.000000</td>\n",
              "      <td>17.250000</td>\n",
              "      <td>133.000000</td>\n",
              "      <td>15.000000</td>\n",
              "      <td>23.000000</td>\n",
              "      <td>1025.000000</td>\n",
              "      <td>17.430000</td>\n",
              "      <td>0.000000</td>\n",
              "      <td>0.000000</td>\n",
              "    </tr>\n",
              "    <tr>\n",
              "      <th>max</th>\n",
              "      <td>43824.000000</td>\n",
              "      <td>2014.0</td>\n",
              "      <td>12.000000</td>\n",
              "      <td>31.000000</td>\n",
              "      <td>23.000000</td>\n",
              "      <td>671.000000</td>\n",
              "      <td>25.000000</td>\n",
              "      <td>42.000000</td>\n",
              "      <td>1039.000000</td>\n",
              "      <td>441.180000</td>\n",
              "      <td>23.000000</td>\n",
              "      <td>23.000000</td>\n",
              "    </tr>\n",
              "  </tbody>\n",
              "</table>\n",
              "</div>"
            ],
            "text/plain": [
              "                 No    year        month  ...          Iws           Is           Ir\n",
              "count   8760.000000  8760.0  8760.000000  ...  8760.000000  8760.000000  8760.000000\n",
              "mean   39444.500000  2014.0     6.526027  ...    19.618643     0.033904     0.135616\n",
              "std     2528.938512     0.0     3.448048  ...    44.221399     0.704797     1.070038\n",
              "min    35065.000000  2014.0     1.000000  ...     0.450000     0.000000     0.000000\n",
              "25%    37254.750000  2014.0     4.000000  ...     1.790000     0.000000     0.000000\n",
              "50%    39444.500000  2014.0     7.000000  ...     4.910000     0.000000     0.000000\n",
              "75%    41634.250000  2014.0    10.000000  ...    17.430000     0.000000     0.000000\n",
              "max    43824.000000  2014.0    12.000000  ...   441.180000    23.000000    23.000000\n",
              "\n",
              "[8 rows x 12 columns]"
            ]
          },
          "metadata": {
            "tags": []
          },
          "execution_count": 15
        }
      ]
    },
    {
      "cell_type": "code",
      "metadata": {
        "id": "PKV-INau6qDe",
        "outputId": "a7cd925f-b49f-4de9-eccb-f4e570105fed",
        "colab": {
          "base_uri": "https://localhost:8080/",
          "height": 202
        }
      },
      "source": [
        "df.head()"
      ],
      "execution_count": null,
      "outputs": [
        {
          "output_type": "execute_result",
          "data": {
            "text/html": [
              "<div>\n",
              "<style scoped>\n",
              "    .dataframe tbody tr th:only-of-type {\n",
              "        vertical-align: middle;\n",
              "    }\n",
              "\n",
              "    .dataframe tbody tr th {\n",
              "        vertical-align: top;\n",
              "    }\n",
              "\n",
              "    .dataframe thead th {\n",
              "        text-align: right;\n",
              "    }\n",
              "</style>\n",
              "<table border=\"1\" class=\"dataframe\">\n",
              "  <thead>\n",
              "    <tr style=\"text-align: right;\">\n",
              "      <th></th>\n",
              "      <th>No</th>\n",
              "      <th>year</th>\n",
              "      <th>month</th>\n",
              "      <th>day</th>\n",
              "      <th>hour</th>\n",
              "      <th>pm2.5</th>\n",
              "      <th>DEWP</th>\n",
              "      <th>TEMP</th>\n",
              "      <th>PRES</th>\n",
              "      <th>cbwd</th>\n",
              "      <th>Iws</th>\n",
              "      <th>Is</th>\n",
              "      <th>Ir</th>\n",
              "    </tr>\n",
              "  </thead>\n",
              "  <tbody>\n",
              "    <tr>\n",
              "      <th>0</th>\n",
              "      <td>35065</td>\n",
              "      <td>2014</td>\n",
              "      <td>1</td>\n",
              "      <td>1</td>\n",
              "      <td>0</td>\n",
              "      <td>24.0</td>\n",
              "      <td>-20</td>\n",
              "      <td>7.0</td>\n",
              "      <td>1014</td>\n",
              "      <td>NW</td>\n",
              "      <td>143.48</td>\n",
              "      <td>0</td>\n",
              "      <td>0</td>\n",
              "    </tr>\n",
              "    <tr>\n",
              "      <th>1</th>\n",
              "      <td>35066</td>\n",
              "      <td>2014</td>\n",
              "      <td>1</td>\n",
              "      <td>1</td>\n",
              "      <td>1</td>\n",
              "      <td>53.0</td>\n",
              "      <td>-20</td>\n",
              "      <td>7.0</td>\n",
              "      <td>1013</td>\n",
              "      <td>NW</td>\n",
              "      <td>147.50</td>\n",
              "      <td>0</td>\n",
              "      <td>0</td>\n",
              "    </tr>\n",
              "    <tr>\n",
              "      <th>2</th>\n",
              "      <td>35067</td>\n",
              "      <td>2014</td>\n",
              "      <td>1</td>\n",
              "      <td>1</td>\n",
              "      <td>2</td>\n",
              "      <td>65.0</td>\n",
              "      <td>-20</td>\n",
              "      <td>6.0</td>\n",
              "      <td>1013</td>\n",
              "      <td>NW</td>\n",
              "      <td>151.52</td>\n",
              "      <td>0</td>\n",
              "      <td>0</td>\n",
              "    </tr>\n",
              "    <tr>\n",
              "      <th>3</th>\n",
              "      <td>35068</td>\n",
              "      <td>2014</td>\n",
              "      <td>1</td>\n",
              "      <td>1</td>\n",
              "      <td>3</td>\n",
              "      <td>70.0</td>\n",
              "      <td>-20</td>\n",
              "      <td>6.0</td>\n",
              "      <td>1013</td>\n",
              "      <td>NW</td>\n",
              "      <td>153.31</td>\n",
              "      <td>0</td>\n",
              "      <td>0</td>\n",
              "    </tr>\n",
              "    <tr>\n",
              "      <th>4</th>\n",
              "      <td>35069</td>\n",
              "      <td>2014</td>\n",
              "      <td>1</td>\n",
              "      <td>1</td>\n",
              "      <td>4</td>\n",
              "      <td>79.0</td>\n",
              "      <td>-18</td>\n",
              "      <td>3.0</td>\n",
              "      <td>1012</td>\n",
              "      <td>cv</td>\n",
              "      <td>0.89</td>\n",
              "      <td>0</td>\n",
              "      <td>0</td>\n",
              "    </tr>\n",
              "  </tbody>\n",
              "</table>\n",
              "</div>"
            ],
            "text/plain": [
              "      No  year  month  day  hour  pm2.5  DEWP  TEMP  PRES cbwd     Iws  Is  Ir\n",
              "0  35065  2014      1    1     0   24.0   -20   7.0  1014   NW  143.48   0   0\n",
              "1  35066  2014      1    1     1   53.0   -20   7.0  1013   NW  147.50   0   0\n",
              "2  35067  2014      1    1     2   65.0   -20   6.0  1013   NW  151.52   0   0\n",
              "3  35068  2014      1    1     3   70.0   -20   6.0  1013   NW  153.31   0   0\n",
              "4  35069  2014      1    1     4   79.0   -18   3.0  1012   cv    0.89   0   0"
            ]
          },
          "metadata": {
            "tags": []
          },
          "execution_count": 16
        }
      ]
    },
    {
      "cell_type": "code",
      "metadata": {
        "id": "mDk99KdR78rf",
        "outputId": "4a3a826e-5526-4910-be33-07bd0dc313d9",
        "colab": {
          "base_uri": "https://localhost:8080/",
          "height": 260
        }
      },
      "source": [
        "print(df)"
      ],
      "execution_count": null,
      "outputs": [
        {
          "output_type": "stream",
          "text": [
            "         No  year  month  day  hour  pm2.5  ...  TEMP  PRES  cbwd     Iws  Is  Ir\n",
            "0     35065  2014      1    1     0   24.0  ...   7.0  1014    NW  143.48   0   0\n",
            "1     35066  2014      1    1     1   53.0  ...   7.0  1013    NW  147.50   0   0\n",
            "2     35067  2014      1    1     2   65.0  ...   6.0  1013    NW  151.52   0   0\n",
            "3     35068  2014      1    1     3   70.0  ...   6.0  1013    NW  153.31   0   0\n",
            "4     35069  2014      1    1     4   79.0  ...   3.0  1012    cv    0.89   0   0\n",
            "...     ...   ...    ...  ...   ...    ...  ...   ...   ...   ...     ...  ..  ..\n",
            "8755  43820  2014     12   31    19    8.0  ...  -2.0  1034    NW  231.97   0   0\n",
            "8756  43821  2014     12   31    20   10.0  ...  -3.0  1034    NW  237.78   0   0\n",
            "8757  43822  2014     12   31    21   10.0  ...  -3.0  1034    NW  242.70   0   0\n",
            "8758  43823  2014     12   31    22    8.0  ...  -4.0  1034    NW  246.72   0   0\n",
            "8759  43824  2014     12   31    23   12.0  ...  -3.0  1034    NW  249.85   0   0\n",
            "\n",
            "[8760 rows x 13 columns]\n"
          ],
          "name": "stdout"
        }
      ]
    },
    {
      "cell_type": "markdown",
      "metadata": {
        "id": "anBK85pF-ZB7"
      },
      "source": [
        "Limpieza de datos "
      ]
    },
    {
      "cell_type": "code",
      "metadata": {
        "id": "U-8hCw1E-YrR"
      },
      "source": [
        "df.dropna(subset=['pm2.5'], axis=0, inplace=True)\n",
        "df.reset_index(drop=True, inplace=True)"
      ],
      "execution_count": null,
      "outputs": []
    },
    {
      "cell_type": "code",
      "metadata": {
        "id": "aiYa_cC5-dBa",
        "outputId": "604f5a86-f572-4db5-8bd1-8d776e872f2c",
        "colab": {
          "base_uri": "https://localhost:8080/",
          "height": 260
        }
      },
      "source": [
        "print(df)"
      ],
      "execution_count": null,
      "outputs": [
        {
          "output_type": "stream",
          "text": [
            "         No  year  month  day  hour  pm2.5  ...  TEMP  PRES  cbwd     Iws  Is  Ir\n",
            "0     35065  2014      1    1     0   24.0  ...   7.0  1014    NW  143.48   0   0\n",
            "1     35066  2014      1    1     1   53.0  ...   7.0  1013    NW  147.50   0   0\n",
            "2     35067  2014      1    1     2   65.0  ...   6.0  1013    NW  151.52   0   0\n",
            "3     35068  2014      1    1     3   70.0  ...   6.0  1013    NW  153.31   0   0\n",
            "4     35069  2014      1    1     4   79.0  ...   3.0  1012    cv    0.89   0   0\n",
            "...     ...   ...    ...  ...   ...    ...  ...   ...   ...   ...     ...  ..  ..\n",
            "8656  43820  2014     12   31    19    8.0  ...  -2.0  1034    NW  231.97   0   0\n",
            "8657  43821  2014     12   31    20   10.0  ...  -3.0  1034    NW  237.78   0   0\n",
            "8658  43822  2014     12   31    21   10.0  ...  -3.0  1034    NW  242.70   0   0\n",
            "8659  43823  2014     12   31    22    8.0  ...  -4.0  1034    NW  246.72   0   0\n",
            "8660  43824  2014     12   31    23   12.0  ...  -3.0  1034    NW  249.85   0   0\n",
            "\n",
            "[8661 rows x 13 columns]\n"
          ],
          "name": "stdout"
        }
      ]
    },
    {
      "cell_type": "code",
      "metadata": {
        "id": "Khf3uab7-nr-"
      },
      "source": [
        "import datetime\n",
        "df['datetime'] = df[['year', 'month', 'day', 'hour']].apply(lambda row: datetime.datetime(year=row['year'], month=row['month'], day=row['day'],\n",
        "                                                                                          hour=row['hour']), axis=1)\n",
        "df.sort_values('datetime', ascending=True, inplace=True)"
      ],
      "execution_count": null,
      "outputs": []
    },
    {
      "cell_type": "markdown",
      "metadata": {
        "id": "ljFdZhBd-5P7"
      },
      "source": [
        "Visualización de los datos\n"
      ]
    },
    {
      "cell_type": "code",
      "metadata": {
        "id": "jS5F6hb0-4IY",
        "outputId": "38d8e279-be58-454c-9b21-76c9e6b69431",
        "colab": {
          "base_uri": "https://localhost:8080/",
          "height": 449
        }
      },
      "source": [
        "from matplotlib import pyplot as plt\n",
        "import seaborn as sns\n",
        "plt.figure(figsize=(5.5, 5.5))\n",
        "g = sns.boxplot(df['pm2.5'])\n",
        "g.set_title('Box plot of pm2.5')"
      ],
      "execution_count": null,
      "outputs": [
        {
          "output_type": "stream",
          "text": [
            "/usr/local/lib/python3.6/dist-packages/seaborn/_decorators.py:43: FutureWarning: Pass the following variable as a keyword arg: x. From version 0.12, the only valid positional argument will be `data`, and passing other arguments without an explicit keyword will result in an error or misinterpretation.\n",
            "  FutureWarning\n"
          ],
          "name": "stderr"
        },
        {
          "output_type": "execute_result",
          "data": {
            "text/plain": [
              "Text(0.5, 1.0, 'Box plot of pm2.5')"
            ]
          },
          "metadata": {
            "tags": []
          },
          "execution_count": 27
        },
        {
          "output_type": "display_data",
          "data": {
            "image/png": "[encoded data removed]",
            "text/plain": [
              "<Figure size 396x396 with 1 Axes>"
            ]
          },
          "metadata": {
            "tags": [],
            "needs_background": "light"
          }
        }
      ]
    },
    {
      "cell_type": "code",
      "metadata": {
        "id": "WDTov-wd_Abr",
        "outputId": "563e8a29-a316-4978-f36a-765a91a786b4",
        "colab": {
          "base_uri": "https://localhost:8080/",
          "height": 432
        }
      },
      "source": [
        "plt.figure(figsize=(16, 5.5))\n",
        "g = sns.lineplot(df['datetime'],df['pm2.5'])\n",
        "g.set_title('Serie de tiempo de pm2.5')\n",
        "g.set_xlabel('Index')\n",
        "g.set_ylabel('Valores horarios de pm2.5')\n",
        "plt.savefig('B07887_05_10.png', format='png', dpi=300)"
      ],
      "execution_count": null,
      "outputs": [
        {
          "output_type": "stream",
          "text": [
            "/usr/local/lib/python3.6/dist-packages/seaborn/_decorators.py:43: FutureWarning: Pass the following variables as keyword args: x, y. From version 0.12, the only valid positional argument will be `data`, and passing other arguments without an explicit keyword will result in an error or misinterpretation.\n",
            "  FutureWarning\n"
          ],
          "name": "stderr"
        },
        {
          "output_type": "display_data",
          "data": {
            "image/png": "[encoded data removed]",
            "text/plain": [
              "<Figure size 1152x396 with 1 Axes>"
            ]
          },
          "metadata": {
            "tags": [],
            "needs_background": "light"
          }
        }
      ]
    },
    {
      "cell_type": "markdown",
      "metadata": {
        "id": "nb6uX6uUpmp-"
      },
      "source": [
        "Agrega una columna con los datos ajustados"
      ]
    },
    {
      "cell_type": "code",
      "metadata": {
        "id": "CGZ0Gh4DoRR6"
      },
      "source": [
        "import numpy as np\n",
        "from sklearn.preprocessing import MinMaxScaler\n",
        "scaler = MinMaxScaler(feature_range=(0, 1))\n",
        "df['scaled_pm2.5'] = scaler.fit_transform(np.array(df['pm2.5']).reshape(-1, 1))"
      ],
      "execution_count": null,
      "outputs": []
    },
    {
      "cell_type": "markdown",
      "metadata": {
        "id": "1BR7NZ5Rn-lv"
      },
      "source": [
        "Ahora visualizamos los conjunto de datos \n"
      ]
    },
    {
      "cell_type": "code",
      "metadata": {
        "id": "m9WJFrb5pFQe",
        "outputId": "eb46301f-d8fe-4ee9-d179-68d7da1481ca",
        "colab": {
          "base_uri": "https://localhost:8080/",
          "height": 52
        }
      },
      "source": [
        "# Utilizamos pandas para realizar este proceso. \n",
        "split_date = datetime.datetime(year=2014, month=11, day=1, hour=0)\n",
        "df_train = df.loc[df['datetime']<split_date]\n",
        "df_test = df.loc[df['datetime']>=split_date]\n",
        "print('Shape of train:', df_train.shape)\n",
        "print('Shape of test:', df_test.shape)"
      ],
      "execution_count": null,
      "outputs": [
        {
          "output_type": "stream",
          "text": [
            "Shape of train: (7239, 15)\n",
            "Shape of test: (1422, 15)\n"
          ],
          "name": "stdout"
        }
      ]
    },
    {
      "cell_type": "code",
      "metadata": {
        "id": "5aSfMuGSpUIQ",
        "outputId": "5d808f0b-c412-44a5-86dc-e568a29cd8e7",
        "colab": {
          "base_uri": "https://localhost:8080/",
          "height": 202
        }
      },
      "source": [
        "df_train.head()"
      ],
      "execution_count": null,
      "outputs": [
        {
          "output_type": "execute_result",
          "data": {
            "text/html": [
              "<div>\n",
              "<style scoped>\n",
              "    .dataframe tbody tr th:only-of-type {\n",
              "        vertical-align: middle;\n",
              "    }\n",
              "\n",
              "    .dataframe tbody tr th {\n",
              "        vertical-align: top;\n",
              "    }\n",
              "\n",
              "    .dataframe thead th {\n",
              "        text-align: right;\n",
              "    }\n",
              "</style>\n",
              "<table border=\"1\" class=\"dataframe\">\n",
              "  <thead>\n",
              "    <tr style=\"text-align: right;\">\n",
              "      <th></th>\n",
              "      <th>No</th>\n",
              "      <th>year</th>\n",
              "      <th>month</th>\n",
              "      <th>day</th>\n",
              "      <th>hour</th>\n",
              "      <th>pm2.5</th>\n",
              "      <th>DEWP</th>\n",
              "      <th>TEMP</th>\n",
              "      <th>PRES</th>\n",
              "      <th>cbwd</th>\n",
              "      <th>Iws</th>\n",
              "      <th>Is</th>\n",
              "      <th>Ir</th>\n",
              "      <th>datetime</th>\n",
              "      <th>scaled_pm2.5</th>\n",
              "    </tr>\n",
              "  </thead>\n",
              "  <tbody>\n",
              "    <tr>\n",
              "      <th>0</th>\n",
              "      <td>35065</td>\n",
              "      <td>2014</td>\n",
              "      <td>1</td>\n",
              "      <td>1</td>\n",
              "      <td>0</td>\n",
              "      <td>24.0</td>\n",
              "      <td>-20</td>\n",
              "      <td>7.0</td>\n",
              "      <td>1014</td>\n",
              "      <td>NW</td>\n",
              "      <td>143.48</td>\n",
              "      <td>0</td>\n",
              "      <td>0</td>\n",
              "      <td>2014-01-01 00:00:00</td>\n",
              "      <td>0.032885</td>\n",
              "    </tr>\n",
              "    <tr>\n",
              "      <th>1</th>\n",
              "      <td>35066</td>\n",
              "      <td>2014</td>\n",
              "      <td>1</td>\n",
              "      <td>1</td>\n",
              "      <td>1</td>\n",
              "      <td>53.0</td>\n",
              "      <td>-20</td>\n",
              "      <td>7.0</td>\n",
              "      <td>1013</td>\n",
              "      <td>NW</td>\n",
              "      <td>147.50</td>\n",
              "      <td>0</td>\n",
              "      <td>0</td>\n",
              "      <td>2014-01-01 01:00:00</td>\n",
              "      <td>0.076233</td>\n",
              "    </tr>\n",
              "    <tr>\n",
              "      <th>2</th>\n",
              "      <td>35067</td>\n",
              "      <td>2014</td>\n",
              "      <td>1</td>\n",
              "      <td>1</td>\n",
              "      <td>2</td>\n",
              "      <td>65.0</td>\n",
              "      <td>-20</td>\n",
              "      <td>6.0</td>\n",
              "      <td>1013</td>\n",
              "      <td>NW</td>\n",
              "      <td>151.52</td>\n",
              "      <td>0</td>\n",
              "      <td>0</td>\n",
              "      <td>2014-01-01 02:00:00</td>\n",
              "      <td>0.094170</td>\n",
              "    </tr>\n",
              "    <tr>\n",
              "      <th>3</th>\n",
              "      <td>35068</td>\n",
              "      <td>2014</td>\n",
              "      <td>1</td>\n",
              "      <td>1</td>\n",
              "      <td>3</td>\n",
              "      <td>70.0</td>\n",
              "      <td>-20</td>\n",
              "      <td>6.0</td>\n",
              "      <td>1013</td>\n",
              "      <td>NW</td>\n",
              "      <td>153.31</td>\n",
              "      <td>0</td>\n",
              "      <td>0</td>\n",
              "      <td>2014-01-01 03:00:00</td>\n",
              "      <td>0.101644</td>\n",
              "    </tr>\n",
              "    <tr>\n",
              "      <th>4</th>\n",
              "      <td>35069</td>\n",
              "      <td>2014</td>\n",
              "      <td>1</td>\n",
              "      <td>1</td>\n",
              "      <td>4</td>\n",
              "      <td>79.0</td>\n",
              "      <td>-18</td>\n",
              "      <td>3.0</td>\n",
              "      <td>1012</td>\n",
              "      <td>cv</td>\n",
              "      <td>0.89</td>\n",
              "      <td>0</td>\n",
              "      <td>0</td>\n",
              "      <td>2014-01-01 04:00:00</td>\n",
              "      <td>0.115097</td>\n",
              "    </tr>\n",
              "  </tbody>\n",
              "</table>\n",
              "</div>"
            ],
            "text/plain": [
              "      No  year  month  day  ...  Is  Ir            datetime  scaled_pm2.5\n",
              "0  35065  2014      1    1  ...   0   0 2014-01-01 00:00:00      0.032885\n",
              "1  35066  2014      1    1  ...   0   0 2014-01-01 01:00:00      0.076233\n",
              "2  35067  2014      1    1  ...   0   0 2014-01-01 02:00:00      0.094170\n",
              "3  35068  2014      1    1  ...   0   0 2014-01-01 03:00:00      0.101644\n",
              "4  35069  2014      1    1  ...   0   0 2014-01-01 04:00:00      0.115097\n",
              "\n",
              "[5 rows x 15 columns]"
            ]
          },
          "metadata": {
            "tags": []
          },
          "execution_count": 108
        }
      ]
    },
    {
      "cell_type": "code",
      "metadata": {
        "id": "ko38GvKDpbFF",
        "outputId": "60b4ecb2-9f21-428a-8b25-9b518391d302",
        "colab": {
          "base_uri": "https://localhost:8080/",
          "height": 202
        }
      },
      "source": [
        "df_test.head()"
      ],
      "execution_count": null,
      "outputs": [
        {
          "output_type": "execute_result",
          "data": {
            "text/html": [
              "<div>\n",
              "<style scoped>\n",
              "    .dataframe tbody tr th:only-of-type {\n",
              "        vertical-align: middle;\n",
              "    }\n",
              "\n",
              "    .dataframe tbody tr th {\n",
              "        vertical-align: top;\n",
              "    }\n",
              "\n",
              "    .dataframe thead th {\n",
              "        text-align: right;\n",
              "    }\n",
              "</style>\n",
              "<table border=\"1\" class=\"dataframe\">\n",
              "  <thead>\n",
              "    <tr style=\"text-align: right;\">\n",
              "      <th></th>\n",
              "      <th>No</th>\n",
              "      <th>year</th>\n",
              "      <th>month</th>\n",
              "      <th>day</th>\n",
              "      <th>hour</th>\n",
              "      <th>pm2.5</th>\n",
              "      <th>DEWP</th>\n",
              "      <th>TEMP</th>\n",
              "      <th>PRES</th>\n",
              "      <th>cbwd</th>\n",
              "      <th>Iws</th>\n",
              "      <th>Is</th>\n",
              "      <th>Ir</th>\n",
              "      <th>datetime</th>\n",
              "      <th>scaled_pm2.5</th>\n",
              "    </tr>\n",
              "  </thead>\n",
              "  <tbody>\n",
              "    <tr>\n",
              "      <th>7239</th>\n",
              "      <td>42361</td>\n",
              "      <td>2014</td>\n",
              "      <td>11</td>\n",
              "      <td>1</td>\n",
              "      <td>0</td>\n",
              "      <td>180.0</td>\n",
              "      <td>10</td>\n",
              "      <td>13.0</td>\n",
              "      <td>1019</td>\n",
              "      <td>NW</td>\n",
              "      <td>1.79</td>\n",
              "      <td>0</td>\n",
              "      <td>0</td>\n",
              "      <td>2014-11-01 00:00:00</td>\n",
              "      <td>0.266069</td>\n",
              "    </tr>\n",
              "    <tr>\n",
              "      <th>7240</th>\n",
              "      <td>42362</td>\n",
              "      <td>2014</td>\n",
              "      <td>11</td>\n",
              "      <td>1</td>\n",
              "      <td>1</td>\n",
              "      <td>189.0</td>\n",
              "      <td>8</td>\n",
              "      <td>9.0</td>\n",
              "      <td>1019</td>\n",
              "      <td>cv</td>\n",
              "      <td>0.89</td>\n",
              "      <td>0</td>\n",
              "      <td>0</td>\n",
              "      <td>2014-11-01 01:00:00</td>\n",
              "      <td>0.279522</td>\n",
              "    </tr>\n",
              "    <tr>\n",
              "      <th>7241</th>\n",
              "      <td>42363</td>\n",
              "      <td>2014</td>\n",
              "      <td>11</td>\n",
              "      <td>1</td>\n",
              "      <td>2</td>\n",
              "      <td>215.0</td>\n",
              "      <td>8</td>\n",
              "      <td>9.0</td>\n",
              "      <td>1019</td>\n",
              "      <td>cv</td>\n",
              "      <td>1.34</td>\n",
              "      <td>0</td>\n",
              "      <td>0</td>\n",
              "      <td>2014-11-01 02:00:00</td>\n",
              "      <td>0.318386</td>\n",
              "    </tr>\n",
              "    <tr>\n",
              "      <th>7242</th>\n",
              "      <td>42364</td>\n",
              "      <td>2014</td>\n",
              "      <td>11</td>\n",
              "      <td>1</td>\n",
              "      <td>3</td>\n",
              "      <td>180.0</td>\n",
              "      <td>8</td>\n",
              "      <td>8.0</td>\n",
              "      <td>1019</td>\n",
              "      <td>NW</td>\n",
              "      <td>1.79</td>\n",
              "      <td>0</td>\n",
              "      <td>0</td>\n",
              "      <td>2014-11-01 03:00:00</td>\n",
              "      <td>0.266069</td>\n",
              "    </tr>\n",
              "    <tr>\n",
              "      <th>7243</th>\n",
              "      <td>42365</td>\n",
              "      <td>2014</td>\n",
              "      <td>11</td>\n",
              "      <td>1</td>\n",
              "      <td>4</td>\n",
              "      <td>81.0</td>\n",
              "      <td>6</td>\n",
              "      <td>6.0</td>\n",
              "      <td>1019</td>\n",
              "      <td>cv</td>\n",
              "      <td>0.89</td>\n",
              "      <td>0</td>\n",
              "      <td>0</td>\n",
              "      <td>2014-11-01 04:00:00</td>\n",
              "      <td>0.118087</td>\n",
              "    </tr>\n",
              "  </tbody>\n",
              "</table>\n",
              "</div>"
            ],
            "text/plain": [
              "         No  year  month  day  ...  Is  Ir            datetime  scaled_pm2.5\n",
              "7239  42361  2014     11    1  ...   0   0 2014-11-01 00:00:00      0.266069\n",
              "7240  42362  2014     11    1  ...   0   0 2014-11-01 01:00:00      0.279522\n",
              "7241  42363  2014     11    1  ...   0   0 2014-11-01 02:00:00      0.318386\n",
              "7242  42364  2014     11    1  ...   0   0 2014-11-01 03:00:00      0.266069\n",
              "7243  42365  2014     11    1  ...   0   0 2014-11-01 04:00:00      0.118087\n",
              "\n",
              "[5 rows x 15 columns]"
            ]
          },
          "metadata": {
            "tags": []
          },
          "execution_count": 109
        }
      ]
    },
    {
      "cell_type": "code",
      "metadata": {
        "id": "j7JAiBTVqLXw"
      },
      "source": [
        "#Vamos a resetar los indices para ser ordenados \n",
        "df_test.reset_index(drop=True, inplace=True)"
      ],
      "execution_count": null,
      "outputs": []
    },
    {
      "cell_type": "code",
      "metadata": {
        "id": "cI8Ha7LWrZrG"
      },
      "source": [
        "def makeXy(ts, nb_timesteps):\n",
        "    \"\"\"\n",
        "    Input: \n",
        "           ts: original time series\n",
        "           nb_timesteps: number of time steps in the regressors\n",
        "    Output: \n",
        "           X: 2-D array of regressors\n",
        "           y: 1-D array of target \n",
        "    \"\"\"\n",
        "    X = []\n",
        "    y = []\n",
        "    for i in range(nb_timesteps, ts.shape[0]):\n",
        "        X.append(list(ts.loc[i-nb_timesteps:i-1]))\n",
        "        y.append(ts.loc[i])\n",
        "    X, y = np.array(X), np.array(y)\n",
        "    return X, y"
      ],
      "execution_count": null,
      "outputs": []
    },
    {
      "cell_type": "code",
      "metadata": {
        "id": "HscrHsF6rdts",
        "outputId": "d0f80f5d-bc4e-4c7d-e43b-420b4d2539a4",
        "colab": {
          "base_uri": "https://localhost:8080/",
          "height": 34
        }
      },
      "source": [
        "x_train, y_train = makeXy(df_train['scaled_pm2.5'], 7)\n",
        "print('Shape of train arrays:', x_train.shape, y_train.shape)"
      ],
      "execution_count": null,
      "outputs": [
        {
          "output_type": "stream",
          "text": [
            "Shape of train arrays: (7232, 7) (7232,)\n"
          ],
          "name": "stdout"
        }
      ]
    },
    {
      "cell_type": "code",
      "metadata": {
        "id": "Ocv6NxHr-B07",
        "outputId": "654eff2f-8b8b-44a8-b104-e73605254e46",
        "colab": {
          "base_uri": "https://localhost:8080/",
          "height": 156
        }
      },
      "source": [
        "print(x_train)\n",
        "print(y_train)"
      ],
      "execution_count": null,
      "outputs": [
        {
          "output_type": "stream",
          "text": [
            "[[0.0328849  0.07623318 0.0941704  ... 0.11509716 0.13452915 0.1554559 ]\n",
            " [0.07623318 0.0941704  0.10164425 ... 0.13452915 0.1554559  0.10911809]\n",
            " [0.0941704  0.10164425 0.11509716 ... 0.1554559  0.10911809 0.08370703]\n",
            " ...\n",
            " [0.21076233 0.21375187 0.22421525 ... 0.26008969 0.30941704 0.33183857]\n",
            " [0.21375187 0.22421525 0.24364723 ... 0.30941704 0.33183857 0.29596413]\n",
            " [0.22421525 0.24364723 0.26008969 ... 0.33183857 0.29596413 0.27802691]]\n",
            "[0.10911809 0.08370703 0.04633782 ... 0.29596413 0.27802691 0.27204783]\n"
          ],
          "name": "stdout"
        }
      ]
    },
    {
      "cell_type": "code",
      "metadata": {
        "id": "X_Z_L1Q8riID",
        "outputId": "52be3cda-08d8-44cb-d06b-6679adb11412",
        "colab": {
          "base_uri": "https://localhost:8080/",
          "height": 34
        }
      },
      "source": [
        "x_test, y_test = makeXy(df_test['scaled_pm2.5'], 7)\n",
        "print('Shape of validation arrays:', x_test.shape, y_test.shape)"
      ],
      "execution_count": null,
      "outputs": [
        {
          "output_type": "stream",
          "text": [
            "Shape of validation arrays: (1415, 7) (1415,)\n"
          ],
          "name": "stdout"
        }
      ]
    },
    {
      "cell_type": "code",
      "metadata": {
        "id": "b9mY-R2HtTCm"
      },
      "source": [
        "x_train_df = pd.DataFrame(data=x_train)\n",
        "y_train_df = pd.DataFrame(data=y_train)\n",
        "x_test_df = pd.DataFrame(data=x_test)\n",
        "y_test_df = pd.DataFrame(data=y_test)"
      ],
      "execution_count": null,
      "outputs": []
    },
    {
      "cell_type": "markdown",
      "metadata": {
        "id": "Sgat463ocRSx"
      },
      "source": [
        "#Preparación de datos para enviarlos al Kafka"
      ]
    },
    {
      "cell_type": "code",
      "metadata": {
        "id": "5wjvh5YSt7by"
      },
      "source": [
        "x_train = list(filter(None, x_train_df.to_csv(index=False).split(\"\\n\")[1:]))\n",
        "y_train = list(filter(None, y_train_df.to_csv(index=False).split(\"\\n\")[1:]))\n",
        "\n",
        "x_test = list(filter(None, x_test_df.to_csv(index=False).split(\"\\n\")[1:]))\n",
        "y_test = list(filter(None, y_test_df.to_csv(index=False).split(\"\\n\")[1:]))"
      ],
      "execution_count": null,
      "outputs": []
    },
    {
      "cell_type": "code",
      "metadata": {
        "id": "Wk3RYp2BsEjk",
        "outputId": "2d9fbd9e-fa44-447e-ef4a-9cea72d653fb",
        "colab": {
          "base_uri": "https://localhost:8080/",
          "height": 52
        }
      },
      "source": [
        "def error_callback(exc):\n",
        "    raise Exception('Error while sendig data to kafka: {0}'.format(str(exc)))\n",
        "\n",
        "def write_to_kafka(topic_name, items):\n",
        "  count=0\n",
        "  producer = KafkaProducer(bootstrap_servers=['127.0.0.1:9092'])\n",
        "  for message, key in items:\n",
        "    producer.send(topic_name, key=key.encode('utf-8'), value=message.encode('utf-8')).add_errback(error_callback)\n",
        "    count+=1\n",
        "  producer.flush()\n",
        "  print(\"Wrote {0} messages into topic: {1}\".format(count, topic_name))\n",
        "\n",
        "write_to_kafka(\"RFCE-train\", zip(x_train, y_train))\n",
        "write_to_kafka(\"RFCE-test\", zip(x_test, y_test))"
      ],
      "execution_count": null,
      "outputs": [
        {
          "output_type": "stream",
          "text": [
            "Wrote 7232 messages into topic: RFCE-train\n",
            "Wrote 1415 messages into topic: RFCE-test\n"
          ],
          "name": "stdout"
        }
      ]
    },
    {
      "cell_type": "code",
      "metadata": {
        "id": "OmzBGh_7uDGT",
        "outputId": "4374767f-14f2-4153-b086-630ebb4f363c",
        "colab": {
          "base_uri": "https://localhost:8080/",
          "height": 34
        }
      },
      "source": [
        "NUM_COLUMNS = len(x_train_df.columns)\n",
        "len(x_train), len(y_train), len(x_test), len(y_test)\n",
        "print(NUM_COLUMNS)"
      ],
      "execution_count": null,
      "outputs": [
        {
          "output_type": "stream",
          "text": [
            "7\n"
          ],
          "name": "stdout"
        }
      ]
    },
    {
      "cell_type": "code",
      "metadata": {
        "id": "gxj9HO9JuQA9"
      },
      "source": [
        "def decode_kafka_item(item):\n",
        "  message = tf.io.decode_csv(item.message, [[0.0] for i in range(NUM_COLUMNS)])\n",
        "  key = tf.strings.to_number(item.key)\n",
        "  return (message, key)\n",
        "\n",
        "BATCH_SIZE=64\n",
        "SHUFFLE_BUFFER_SIZE=64\n",
        "train_ds = tfio.IODataset.from_kafka('RFCE-train', partition=0, offset=0)\n",
        "train_ds = train_ds.shuffle(buffer_size=SHUFFLE_BUFFER_SIZE)\n",
        "train_ds = train_ds.map(decode_kafka_item)\n",
        "train_ds = train_ds.batch(BATCH_SIZE)"
      ],
      "execution_count": null,
      "outputs": []
    },
    {
      "cell_type": "code",
      "metadata": {
        "id": "2u3UhLHtuV4j"
      },
      "source": [
        "# Set the parameters\n",
        "\n",
        "OPTIMIZER=\"adam\"\n",
        "LOSS=tf.keras.losses.BinaryCrossentropy(from_logits=True)\n",
        "METRICS=['accuracy']\n",
        "EPOCHS=20"
      ],
      "execution_count": null,
      "outputs": []
    },
    {
      "cell_type": "code",
      "metadata": {
        "id": "3KnDa2vc13h5"
      },
      "source": [
        "from keras.layers import Dense\n",
        "from keras.layers import Input\n",
        "from keras.layers import Dropout\n",
        "from keras.layers import Flatten\n",
        "from keras.layers.convolutional import ZeroPadding1D\n",
        "from keras.layers.convolutional import Conv1D\n",
        "from keras.layers.pooling import AveragePooling1D\n",
        "from keras.optimizers import SGD\n",
        "from keras.models import Model\n",
        "from keras.models import load_model\n",
        "from keras.callbacks import ModelCheckpoint"
      ],
      "execution_count": null,
      "outputs": []
    },
    {
      "cell_type": "code",
      "metadata": {
        "id": "sUnp5sVNu4pj"
      },
      "source": [
        "input_layer = Input(shape=(7,1), dtype='float32')\n",
        "zeropadding_layer = ZeroPadding1D(padding=1)(input_layer)\n",
        "conv1D_layer1 = Conv1D(64, 3, strides=1, use_bias=True)(zeropadding_layer)\n",
        "conv1D_layer2 = Conv1D(32, 3, strides=1, use_bias=True)(conv1D_layer1)\n",
        "avgpooling_layer = AveragePooling1D(pool_size=3, strides=1)(conv1D_layer2)\n",
        "flatten_layer = Flatten()(avgpooling_layer)\n",
        "dense_layer1 = Dense(32)(avgpooling_layer)\n",
        "dense_layer2 = Dense(16)(dense_layer1)\n",
        "dropout_layer = Dropout(0.2)(flatten_layer)\n",
        "output_layer = Dense(1, activation='linear')(dropout_layer)"
      ],
      "execution_count": null,
      "outputs": []
    },
    {
      "cell_type": "code",
      "metadata": {
        "id": "3hzkDZHP2XMP",
        "outputId": "092dba68-8302-4310-ca34-2e32f3c01110",
        "colab": {
          "base_uri": "https://localhost:8080/",
          "height": 433
        }
      },
      "source": [
        "model = Model(inputs=input_layer, outputs=output_layer)\n",
        "model.compile(loss='mean_absolute_error', optimizer='adam')#SGD(lr=0.001, decay=1e-5))\n",
        "model.summary()"
      ],
      "execution_count": null,
      "outputs": [
        {
          "output_type": "stream",
          "text": [
            "Model: \"functional_3\"\n",
            "_________________________________________________________________\n",
            "Layer (type)                 Output Shape              Param #   \n",
            "=================================================================\n",
            "input_9 (InputLayer)         [(None, 7, 1)]            0         \n",
            "_________________________________________________________________\n",
            "zero_padding1d_2 (ZeroPaddin (None, 9, 1)              0         \n",
            "_________________________________________________________________\n",
            "conv1d_4 (Conv1D)            (None, 7, 64)             256       \n",
            "_________________________________________________________________\n",
            "conv1d_5 (Conv1D)            (None, 5, 32)             6176      \n",
            "_________________________________________________________________\n",
            "average_pooling1d_2 (Average (None, 3, 32)             0         \n",
            "_________________________________________________________________\n",
            "flatten_2 (Flatten)          (None, 96)                0         \n",
            "_________________________________________________________________\n",
            "dropout_20 (Dropout)         (None, 96)                0         \n",
            "_________________________________________________________________\n",
            "dense_32 (Dense)             (None, 1)                 97        \n",
            "=================================================================\n",
            "Total params: 6,529\n",
            "Trainable params: 6,529\n",
            "Non-trainable params: 0\n",
            "_________________________________________________________________\n"
          ],
          "name": "stdout"
        }
      ]
    },
    {
      "cell_type": "code",
      "metadata": {
        "id": "4iJuCuZC3RF4"
      },
      "source": [
        "# compile the model\n",
        "model.compile(optimizer=OPTIMIZER, loss=LOSS, metrics=METRICS)"
      ],
      "execution_count": null,
      "outputs": []
    },
    {
      "cell_type": "code",
      "metadata": {
        "id": "ry7tZjnmu7Pn",
        "outputId": "4b84a251-47bd-4151-b77c-6b80e6b7148b",
        "colab": {
          "base_uri": "https://localhost:8080/",
          "height": 728
        }
      },
      "source": [
        "# fit the model\n",
        "model.fit(train_ds, epochs=20)"
      ],
      "execution_count": null,
      "outputs": [
        {
          "output_type": "stream",
          "text": [
            "Epoch 1/20\n",
            "170/170 [==============================] - 5s 30ms/step - loss: 0.4373 - accuracy: 4.6155e-04\n",
            "Epoch 2/20\n",
            "170/170 [==============================] - 5s 30ms/step - loss: 0.3745 - accuracy: 6.4617e-04\n",
            "Epoch 3/20\n",
            "170/170 [==============================] - 5s 30ms/step - loss: 0.3727 - accuracy: 6.4617e-04\n",
            "Epoch 4/20\n",
            "170/170 [==============================] - 5s 30ms/step - loss: 0.3714 - accuracy: 6.4617e-04\n",
            "Epoch 5/20\n",
            "170/170 [==============================] - 5s 30ms/step - loss: 0.3708 - accuracy: 6.4617e-04\n",
            "Epoch 6/20\n",
            "170/170 [==============================] - 5s 30ms/step - loss: 0.3703 - accuracy: 6.4617e-04\n",
            "Epoch 7/20\n",
            "170/170 [==============================] - 5s 30ms/step - loss: 0.3698 - accuracy: 6.4617e-04\n",
            "Epoch 8/20\n",
            "170/170 [==============================] - 5s 30ms/step - loss: 0.3694 - accuracy: 6.4617e-04\n",
            "Epoch 9/20\n",
            "170/170 [==============================] - 5s 30ms/step - loss: 0.3693 - accuracy: 6.4617e-04\n",
            "Epoch 10/20\n",
            "170/170 [==============================] - 5s 30ms/step - loss: 0.3689 - accuracy: 6.4617e-04\n",
            "Epoch 11/20\n",
            "170/170 [==============================] - 5s 30ms/step - loss: 0.3688 - accuracy: 6.4617e-04\n",
            "Epoch 12/20\n",
            "170/170 [==============================] - 5s 30ms/step - loss: 0.3686 - accuracy: 6.4617e-04\n",
            "Epoch 13/20\n",
            "170/170 [==============================] - 5s 30ms/step - loss: 0.3687 - accuracy: 6.4617e-04\n",
            "Epoch 14/20\n",
            "170/170 [==============================] - 5s 30ms/step - loss: 0.3685 - accuracy: 6.4617e-04\n",
            "Epoch 15/20\n",
            "170/170 [==============================] - 5s 30ms/step - loss: 0.3684 - accuracy: 6.4617e-04\n",
            "Epoch 16/20\n",
            "170/170 [==============================] - 5s 30ms/step - loss: 0.3685 - accuracy: 6.4617e-04\n",
            "Epoch 17/20\n",
            "170/170 [==============================] - 5s 30ms/step - loss: 0.3682 - accuracy: 6.4617e-04\n",
            "Epoch 18/20\n",
            "170/170 [==============================] - 5s 30ms/step - loss: 0.3682 - accuracy: 6.4617e-04\n",
            "Epoch 19/20\n",
            "170/170 [==============================] - 5s 30ms/step - loss: 0.3682 - accuracy: 6.4617e-04\n",
            "Epoch 20/20\n",
            "170/170 [==============================] - 5s 30ms/step - loss: 0.3681 - accuracy: 6.4617e-04\n"
          ],
          "name": "stdout"
        },
        {
          "output_type": "execute_result",
          "data": {
            "text/plain": [
              "<tensorflow.python.keras.callbacks.History at 0x7fc362198278>"
            ]
          },
          "metadata": {
            "tags": []
          },
          "execution_count": 129
        }
      ]
    },
    {
      "cell_type": "code",
      "metadata": {
        "id": "P2jbrXJN57xK"
      },
      "source": [
        "test_ds = tfio.experimental.streaming.KafkaGroupIODataset(\n",
        "    topics=[\"RFCE-test\"],\n",
        "    group_id=\"testcg\",\n",
        "    servers=\"127.0.0.1:9092\",\n",
        "    stream_timeout=10000,\n",
        "    configuration=[\n",
        "        \"session.timeout.ms=7000\",\n",
        "        \"max.poll.interval.ms=8000\",\n",
        "        \"auto.offset.reset=earliest\"\n",
        "    ],\n",
        ")\n",
        "\n",
        "def decode_kafka_test_item(raw_message, raw_key):\n",
        "  message = tf.io.decode_csv(raw_message, [[0.0] for i in range(NUM_COLUMNS)])\n",
        "  key = tf.strings.to_number(raw_key)\n",
        "  return (message, key)\n",
        "\n",
        "test_ds = test_ds.map(decode_kafka_test_item)\n",
        "test_ds = test_ds.batch(BATCH_SIZE)"
      ],
      "execution_count": null,
      "outputs": []
    },
    {
      "cell_type": "code",
      "metadata": {
        "id": "YC2DGAVp6AZe",
        "outputId": "a3142dd4-0494-4b31-f31b-ea5fff56286e",
        "colab": {
          "base_uri": "https://localhost:8080/",
          "height": 52
        }
      },
      "source": [
        "res = model.evaluate(test_ds)\n",
        "print(\"test loss, test acc:\", res)\n"
      ],
      "execution_count": null,
      "outputs": [
        {
          "output_type": "stream",
          "text": [
            "101/101 [==============================] - 11s 104ms/step - loss: 0.3266 - accuracy: 0.0017\n",
            "test loss, test acc: [0.32655268907546997, 0.0017025228589773178]\n"
          ],
          "name": "stdout"
        }
      ]
    },
    {
      "cell_type": "code",
      "metadata": {
        "id": "x_HL2nJQ6UsU",
        "outputId": "19b45158-1efb-4b19-b254-7d9f63c66af7",
        "colab": {
          "base_uri": "https://localhost:8080/",
          "height": 34
        }
      },
      "source": [
        "!confluent-5.4.1/bin/kafka-consumer-groups --bootstrap-server 127.0.0.1:9092 --describe --group testcg"
      ],
      "execution_count": null,
      "outputs": [
        {
          "output_type": "stream",
          "text": [
            "/bin/bash: confluent-5.4.1/bin/kafka-consumer-groups: No such file or directory\n"
          ],
          "name": "stdout"
        }
      ]
    }
  ]
}